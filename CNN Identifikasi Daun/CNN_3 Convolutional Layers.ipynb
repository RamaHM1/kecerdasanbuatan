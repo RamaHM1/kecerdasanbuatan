{
  "nbformat": 4,
  "nbformat_minor": 0,
  "metadata": {
    "colab": {
      "name": "CNN Layer 5.ipynb",
      "provenance": [],
      "collapsed_sections": [],
      "include_colab_link": true
    },
    "kernelspec": {
      "name": "python3",
      "display_name": "Python 3"
    },
    "language_info": {
      "name": "python"
    }
  },
  "cells": [
    {
      "cell_type": "markdown",
      "metadata": {
        "id": "view-in-github",
        "colab_type": "text"
      },
      "source": [
        "<a href=\"https://colab.research.google.com/github/RamaHM1/kecerdasanbuatan/blob/main/CNN%20Identifikasi%20Daun/CNN_Layer_5.ipynb\" target=\"_parent\"><img src=\"https://colab.research.google.com/assets/colab-badge.svg\" alt=\"Open In Colab\"/></a>"
      ]
    },
    {
      "cell_type": "markdown",
      "source": [
        "### **Import Library**\n",
        "\n"
      ],
      "metadata": {
        "id": "huhMkmx8riv7"
      }
    },
    {
      "cell_type": "code",
      "source": [
        "import os\n",
        "import zipfile\n",
        "import cv2\n",
        "import numpy as np\n",
        "from sklearn.preprocessing import LabelEncoder\n",
        "from tensorflow.keras.models import Sequential\n",
        "from tensorflow.keras.layers import InputLayer, Dense, Conv2D, MaxPool2D, Flatten\n",
        "from tensorflow.keras.models import load_model\n",
        "from tensorflow.keras.optimizers import Adam\n",
        "import matplotlib.pyplot as plt\n",
        "from sklearn.metrics import classification_report\n",
        "\n"
      ],
      "metadata": {
        "id": "rTVyhVtZq42N"
      },
      "execution_count": null,
      "outputs": []
    },
    {
      "cell_type": "markdown",
      "source": [
        "### **Download Dataset**"
      ],
      "metadata": {
        "id": "paSRqNn-rv-U"
      }
    },
    {
      "cell_type": "code",
      "metadata": {
        "colab": {
          "base_uri": "https://localhost:8080/"
        },
        "id": "TYG8HEb3Dkpa",
        "outputId": "54af84c1-f9b9-4489-fa97-d56b3119b471"
      },
      "source": [
        "!wget --load-cookies /tmp/cookies.txt \"https://docs.google.com/uc?export=download&confirm=$(wget --quiet --save-cookies /tmp/cookies.txt --keep-session-cookies --no-check-certificate 'https://docs.google.com/uc?export=download&id=17I-kdCrpv0wZgisi4LCO2kTOlzR0ctoB' -O- | sed -rn 's/.*confirm=([0-9A-Za-z_]+).*/\\1\\n/p')&id=17I-kdCrpv0wZgisi4LCO2kTOlzR0ctoB\" -O /tmp/herbal.zip && rm -rf /tmp/cookies.txt"
      ],
      "execution_count": null,
      "outputs": [
        {
          "output_type": "stream",
          "name": "stdout",
          "text": [
            "--2021-12-14 23:02:31--  https://docs.google.com/uc?export=download&confirm=H55d&id=17I-kdCrpv0wZgisi4LCO2kTOlzR0ctoB\n",
            "Resolving docs.google.com (docs.google.com)... 142.250.152.139, 142.250.152.100, 142.250.152.101, ...\n",
            "Connecting to docs.google.com (docs.google.com)|142.250.152.139|:443... connected.\n",
            "HTTP request sent, awaiting response... 302 Moved Temporarily\n",
            "Location: https://doc-0s-8k-docs.googleusercontent.com/docs/securesc/n1pcb5vb1smf7e3u8qu27vt6381snntk/v7fo525178d03u2jighhepg1qbasqqj8/1639522950000/15542249348961723767/09222774090971203296Z/17I-kdCrpv0wZgisi4LCO2kTOlzR0ctoB?e=download [following]\n",
            "--2021-12-14 23:02:31--  https://doc-0s-8k-docs.googleusercontent.com/docs/securesc/n1pcb5vb1smf7e3u8qu27vt6381snntk/v7fo525178d03u2jighhepg1qbasqqj8/1639522950000/15542249348961723767/09222774090971203296Z/17I-kdCrpv0wZgisi4LCO2kTOlzR0ctoB?e=download\n",
            "Resolving doc-0s-8k-docs.googleusercontent.com (doc-0s-8k-docs.googleusercontent.com)... 142.250.152.132, 2607:f8b0:4001:c56::84\n",
            "Connecting to doc-0s-8k-docs.googleusercontent.com (doc-0s-8k-docs.googleusercontent.com)|142.250.152.132|:443... connected.\n",
            "HTTP request sent, awaiting response... 302 Found\n",
            "Location: https://docs.google.com/nonceSigner?nonce=nbid5fahluk28&continue=https://doc-0s-8k-docs.googleusercontent.com/docs/securesc/n1pcb5vb1smf7e3u8qu27vt6381snntk/v7fo525178d03u2jighhepg1qbasqqj8/1639522950000/15542249348961723767/09222774090971203296Z/17I-kdCrpv0wZgisi4LCO2kTOlzR0ctoB?e%3Ddownload&hash=puv8bmsj853pbpr5caadifdmt56k14i8 [following]\n",
            "--2021-12-14 23:02:31--  https://docs.google.com/nonceSigner?nonce=nbid5fahluk28&continue=https://doc-0s-8k-docs.googleusercontent.com/docs/securesc/n1pcb5vb1smf7e3u8qu27vt6381snntk/v7fo525178d03u2jighhepg1qbasqqj8/1639522950000/15542249348961723767/09222774090971203296Z/17I-kdCrpv0wZgisi4LCO2kTOlzR0ctoB?e%3Ddownload&hash=puv8bmsj853pbpr5caadifdmt56k14i8\n",
            "Connecting to docs.google.com (docs.google.com)|142.250.152.139|:443... connected.\n",
            "HTTP request sent, awaiting response... 302 Found\n",
            "Location: https://doc-0s-8k-docs.googleusercontent.com/docs/securesc/n1pcb5vb1smf7e3u8qu27vt6381snntk/v7fo525178d03u2jighhepg1qbasqqj8/1639522950000/15542249348961723767/09222774090971203296Z/17I-kdCrpv0wZgisi4LCO2kTOlzR0ctoB?e=download&nonce=nbid5fahluk28&user=09222774090971203296Z&hash=thdhup9sb6l72ntvrrg654fv43cgmu85 [following]\n",
            "--2021-12-14 23:02:31--  https://doc-0s-8k-docs.googleusercontent.com/docs/securesc/n1pcb5vb1smf7e3u8qu27vt6381snntk/v7fo525178d03u2jighhepg1qbasqqj8/1639522950000/15542249348961723767/09222774090971203296Z/17I-kdCrpv0wZgisi4LCO2kTOlzR0ctoB?e=download&nonce=nbid5fahluk28&user=09222774090971203296Z&hash=thdhup9sb6l72ntvrrg654fv43cgmu85\n",
            "Connecting to doc-0s-8k-docs.googleusercontent.com (doc-0s-8k-docs.googleusercontent.com)|142.250.152.132|:443... connected.\n",
            "HTTP request sent, awaiting response... 200 OK\n",
            "Length: 449741837 (429M) [application/x-zip-compressed]\n",
            "Saving to: ‘/tmp/herbal.zip’\n",
            "\n",
            "/tmp/herbal.zip     100%[===================>] 428.91M  87.1MB/s    in 5.1s    \n",
            "\n",
            "2021-12-14 23:02:37 (84.6 MB/s) - ‘/tmp/herbal.zip’ saved [449741837/449741837]\n",
            "\n"
          ]
        }
      ]
    },
    {
      "cell_type": "markdown",
      "source": [
        "### **Extrack Dataset**"
      ],
      "metadata": {
        "id": "XjVhQYArr2Cd"
      }
    },
    {
      "cell_type": "code",
      "metadata": {
        "id": "4rtnNrFsEDIf"
      },
      "source": [
        "local_zip = '/tmp/herbal.zip'\n",
        "zip_ref = zipfile.ZipFile(local_zip, 'r')\n",
        "zip_ref.extractall('/tmp')\n",
        "zip_ref.close()"
      ],
      "execution_count": null,
      "outputs": []
    },
    {
      "cell_type": "markdown",
      "source": [
        "### **Definisi Path Dataset**"
      ],
      "metadata": {
        "id": "BfOLRP-Zr6Sc"
      }
    },
    {
      "cell_type": "code",
      "metadata": {
        "id": "y9L_1kqnEEjc"
      },
      "source": [
        "base_dir = '/tmp/herbal'\n",
        "\n",
        "train_dir = os.path.join(base_dir, 'train')\n",
        "validation_dir = os.path.join(base_dir, 'validation')"
      ],
      "execution_count": null,
      "outputs": []
    },
    {
      "cell_type": "markdown",
      "source": [
        "### **Mengumpulkan Data Train**"
      ],
      "metadata": {
        "id": "wP0J_y7EsQUl"
      }
    },
    {
      "cell_type": "code",
      "metadata": {
        "id": "9gc0BCSREF0M"
      },
      "source": [
        "train_data = []\n",
        "train_label = []\n",
        "for r, d, f in os.walk(train_dir):\n",
        "    for file in f:\n",
        "        if \".jpg\" in file:\n",
        "            imagePath = os.path.join(r, file)\n",
        "            image = cv2.imread(imagePath)\n",
        "            image = cv2.resize(image, (150,150))\n",
        "            train_data.append(image)\n",
        "            label = imagePath.split(os.path.sep)[-2]\n",
        "            train_label.append(label)\n",
        "\n",
        "train_data = np.array(train_data)\n",
        "train_label = np.array(train_label)"
      ],
      "execution_count": null,
      "outputs": []
    },
    {
      "cell_type": "markdown",
      "source": [
        "### **Mengumpulkan Data Validasi**"
      ],
      "metadata": {
        "id": "H3hmXaFKtCEs"
      }
    },
    {
      "cell_type": "code",
      "metadata": {
        "id": "FuoKFhhVEG_O"
      },
      "source": [
        "val_data = []\n",
        "val_label = []\n",
        "for r, d, f in os.walk(validation_dir):\n",
        "    for file in f:\n",
        "        if \".jpg\" in file:\n",
        "            imagePath = os.path.join(r, file)\n",
        "            image = cv2.imread(imagePath)\n",
        "            image = cv2.resize(image, (150,150))\n",
        "            val_data.append(image)\n",
        "            label = imagePath.split(os.path.sep)[-2]\n",
        "            val_label.append(label)\n",
        "\n",
        "val_data = np.array(val_data)\n",
        "val_label = np.array(val_label)"
      ],
      "execution_count": null,
      "outputs": []
    },
    {
      "cell_type": "markdown",
      "source": [
        "### **Preprocessing Data**"
      ],
      "metadata": {
        "id": "qRkOiSAatN98"
      }
    },
    {
      "cell_type": "code",
      "metadata": {
        "colab": {
          "base_uri": "https://localhost:8080/"
        },
        "id": "m5VhnvtrEI1I",
        "outputId": "a467610d-8e26-4813-fffa-d2656572cc62"
      },
      "source": [
        "# Tampilkan shape dari data train dan data validation\n",
        "print(\"Train Data = \", train_data.shape)\n",
        "print(\"Train Label = \", train_label.shape)\n",
        "print(\"Validation Data = \", val_data.shape)\n",
        "print(\"Validation Label = \", val_label.shape)"
      ],
      "execution_count": null,
      "outputs": [
        {
          "output_type": "stream",
          "name": "stdout",
          "text": [
            "Train Data =  (70, 150, 150, 3)\n",
            "Train Label =  (70,)\n",
            "Validation Data =  (30, 150, 150, 3)\n",
            "Validation Label =  (30,)\n"
          ]
        }
      ]
    },
    {
      "cell_type": "code",
      "metadata": {
        "colab": {
          "base_uri": "https://localhost:8080/"
        },
        "id": "q1LVp6dCENne",
        "outputId": "f52f1a97-ac9f-4eae-9b3b-3b146ab61a89"
      },
      "source": [
        "# Normalisasi dataset\n",
        "print(\"Data sebelum di-normalisasi \", train_data[0][0][0])\n",
        "\n",
        "x_train = train_data.astype('float32') / 255.0\n",
        "x_val = val_data.astype('float32') / 255.0\n",
        "print(\"Data setelah di-normalisasi \", x_train[0][0][0])"
      ],
      "execution_count": null,
      "outputs": [
        {
          "output_type": "stream",
          "name": "stdout",
          "text": [
            "Data sebelum di-normalisasi  [147 160 176]\n",
            "Data setelah di-normalisasi  [0.5764706 0.627451  0.6901961]\n"
          ]
        }
      ]
    },
    {
      "cell_type": "code",
      "metadata": {
        "colab": {
          "base_uri": "https://localhost:8080/"
        },
        "id": "tc7FivC6EPhm",
        "outputId": "bf5965ee-5f92-4ced-ffbb-2db18186083d"
      },
      "source": [
        "# Transformasi label encoder\n",
        "print(\"Label sebelum di-encoder \", train_label[30:40])\n",
        "\n",
        "lb = LabelEncoder()\n",
        "y_train = lb.fit_transform(train_label)\n",
        "y_val = lb.fit_transform(val_label)\n",
        "\n",
        "print(label)\n",
        "print(\"Label setelah di-encoder \", y_train[30:40])"
      ],
      "execution_count": null,
      "outputs": [
        {
          "output_type": "stream",
          "name": "stdout",
          "text": [
            "Label sebelum di-encoder  ['daun_jambu' 'daun_jambu' 'daun_jambu' 'daun_jambu' 'daun_jambu'\n",
            " 'daun_jeruk_nipis' 'daun_jeruk_nipis' 'daun_jeruk_nipis'\n",
            " 'daun_jeruk_nipis' 'daun_jeruk_nipis']\n",
            "daun_jeruk_nipis\n",
            "Label setelah di-encoder  [0 0 0 0 0 1 1 1 1 1]\n"
          ]
        }
      ]
    },
    {
      "cell_type": "markdown",
      "metadata": {
        "id": "4jVWbOhOEzQJ"
      },
      "source": [
        "### **Definisi Model**"
      ]
    },
    {
      "cell_type": "code",
      "metadata": {
        "id": "rDwzxacpE1ei"
      },
      "source": [
        "# Feature Extraction Layer\n",
        "model = Sequential()\n",
        "\n",
        "model.add(InputLayer(input_shape=[150,150,3]))\n",
        "model.add(Conv2D(filters=16, kernel_size=3, strides=1, padding='same', activation='relu'))\n",
        "model.add(MaxPool2D(pool_size=2, padding='same'))\n",
        "model.add(Conv2D(filters=32, kernel_size=3, strides=1, padding='same', activation='relu'))\n",
        "model.add(MaxPool2D(pool_size=2, padding='same'))\n",
        "model.add(Conv2D(filters=64, kernel_size=3, strides=1, padding='same', activation='relu'))\n",
        "model.add(MaxPool2D(pool_size=2, padding='same'))\n",
        "model.add(Flatten())"
      ],
      "execution_count": null,
      "outputs": []
    },
    {
      "cell_type": "code",
      "metadata": {
        "id": "Sud1AUF0E2k8"
      },
      "source": [
        "# Fully Connected Layer\n",
        "model.add(Dense(128, activation='relu'))\n",
        "model.add(Dense(1, activation='sigmoid'))"
      ],
      "execution_count": null,
      "outputs": []
    },
    {
      "cell_type": "code",
      "metadata": {
        "colab": {
          "base_uri": "https://localhost:8080/"
        },
        "id": "XW-KE9ePE466",
        "outputId": "3d4ef95d-1344-46a6-b854-8840395b3e02"
      },
      "source": [
        "# Print model summary\n",
        "print(model.summary())"
      ],
      "execution_count": null,
      "outputs": [
        {
          "output_type": "stream",
          "name": "stdout",
          "text": [
            "Model: \"sequential_13\"\n",
            "_________________________________________________________________\n",
            " Layer (type)                Output Shape              Param #   \n",
            "=================================================================\n",
            " conv2d_36 (Conv2D)          (None, 150, 150, 16)      448       \n",
            "                                                                 \n",
            " max_pooling2d_36 (MaxPoolin  (None, 75, 75, 16)       0         \n",
            " g2D)                                                            \n",
            "                                                                 \n",
            " conv2d_37 (Conv2D)          (None, 75, 75, 32)        4640      \n",
            "                                                                 \n",
            " max_pooling2d_37 (MaxPoolin  (None, 38, 38, 32)       0         \n",
            " g2D)                                                            \n",
            "                                                                 \n",
            " conv2d_38 (Conv2D)          (None, 38, 38, 64)        18496     \n",
            "                                                                 \n",
            " max_pooling2d_38 (MaxPoolin  (None, 19, 19, 64)       0         \n",
            " g2D)                                                            \n",
            "                                                                 \n",
            " flatten_12 (Flatten)        (None, 23104)             0         \n",
            "                                                                 \n",
            " dense_22 (Dense)            (None, 128)               2957440   \n",
            "                                                                 \n",
            " dense_23 (Dense)            (None, 1)                 129       \n",
            "                                                                 \n",
            "=================================================================\n",
            "Total params: 2,981,153\n",
            "Trainable params: 2,981,153\n",
            "Non-trainable params: 0\n",
            "_________________________________________________________________\n",
            "None\n"
          ]
        }
      ]
    },
    {
      "cell_type": "code",
      "metadata": {
        "colab": {
          "base_uri": "https://localhost:8080/"
        },
        "id": "Tais64D7E5Zo",
        "outputId": "17eaa163-3bde-4f66-ddc0-d22258bb79b2"
      },
      "source": [
        "# Compile model\n",
        "\n",
        "model.compile(optimizer=Adam(lr=0.001), \n",
        "              loss='binary_crossentropy', \n",
        "              metrics=['acc'])"
      ],
      "execution_count": null,
      "outputs": [
        {
          "output_type": "stream",
          "name": "stderr",
          "text": [
            "/usr/local/lib/python3.7/dist-packages/keras/optimizer_v2/adam.py:105: UserWarning: The `lr` argument is deprecated, use `learning_rate` instead.\n",
            "  super(Adam, self).__init__(name, **kwargs)\n"
          ]
        }
      ]
    },
    {
      "cell_type": "markdown",
      "metadata": {
        "id": "NTNBH19iE8kt"
      },
      "source": [
        "<h3>Training Model</h3>"
      ]
    },
    {
      "cell_type": "code",
      "metadata": {
        "colab": {
          "base_uri": "https://localhost:8080/"
        },
        "id": "p4Vr8dyvE6pM",
        "outputId": "482ca67f-d926-48f5-e630-61414b3091f9"
      },
      "source": [
        "H = model.fit(x_train, y_train, batch_size=20, epochs=50, validation_data=(x_val, y_val))"
      ],
      "execution_count": null,
      "outputs": [
        {
          "output_type": "stream",
          "name": "stdout",
          "text": [
            "Epoch 1/50\n",
            "4/4 [==============================] - 3s 507ms/step - loss: 1.0480 - acc: 0.5000 - val_loss: 0.7071 - val_acc: 0.5000\n",
            "Epoch 2/50\n",
            "4/4 [==============================] - 2s 448ms/step - loss: 0.6980 - acc: 0.5571 - val_loss: 0.6800 - val_acc: 0.7333\n",
            "Epoch 3/50\n",
            "4/4 [==============================] - 2s 455ms/step - loss: 0.6663 - acc: 0.9000 - val_loss: 0.6690 - val_acc: 0.7667\n",
            "Epoch 4/50\n",
            "4/4 [==============================] - 2s 451ms/step - loss: 0.6441 - acc: 0.8857 - val_loss: 0.6403 - val_acc: 0.8000\n",
            "Epoch 5/50\n",
            "4/4 [==============================] - 2s 448ms/step - loss: 0.6000 - acc: 0.7714 - val_loss: 0.5983 - val_acc: 0.7000\n",
            "Epoch 6/50\n",
            "4/4 [==============================] - 2s 450ms/step - loss: 0.5303 - acc: 0.7286 - val_loss: 0.5336 - val_acc: 0.7667\n",
            "Epoch 7/50\n",
            "4/4 [==============================] - 2s 483ms/step - loss: 0.4402 - acc: 0.9143 - val_loss: 0.5139 - val_acc: 0.7000\n",
            "Epoch 8/50\n",
            "4/4 [==============================] - 2s 450ms/step - loss: 0.3305 - acc: 0.8714 - val_loss: 0.4471 - val_acc: 0.8333\n",
            "Epoch 9/50\n",
            "4/4 [==============================] - 2s 448ms/step - loss: 0.3088 - acc: 0.9000 - val_loss: 0.5526 - val_acc: 0.7000\n",
            "Epoch 10/50\n",
            "4/4 [==============================] - 2s 564ms/step - loss: 0.2485 - acc: 0.9000 - val_loss: 0.4568 - val_acc: 0.8000\n",
            "Epoch 11/50\n",
            "4/4 [==============================] - 2s 434ms/step - loss: 0.2004 - acc: 0.9571 - val_loss: 0.4595 - val_acc: 0.7667\n",
            "Epoch 12/50\n",
            "4/4 [==============================] - 2s 441ms/step - loss: 0.1631 - acc: 0.9571 - val_loss: 0.4564 - val_acc: 0.8000\n",
            "Epoch 13/50\n",
            "4/4 [==============================] - 2s 440ms/step - loss: 0.1462 - acc: 0.9571 - val_loss: 0.4547 - val_acc: 0.7667\n",
            "Epoch 14/50\n",
            "4/4 [==============================] - 2s 443ms/step - loss: 0.1758 - acc: 0.9429 - val_loss: 0.4553 - val_acc: 0.8000\n",
            "Epoch 15/50\n",
            "4/4 [==============================] - 2s 435ms/step - loss: 0.1605 - acc: 0.9286 - val_loss: 0.4582 - val_acc: 0.7667\n",
            "Epoch 16/50\n",
            "4/4 [==============================] - 2s 488ms/step - loss: 0.1212 - acc: 0.9857 - val_loss: 0.4802 - val_acc: 0.7667\n",
            "Epoch 17/50\n",
            "4/4 [==============================] - 2s 441ms/step - loss: 0.1203 - acc: 0.9429 - val_loss: 0.5029 - val_acc: 0.8333\n",
            "Epoch 18/50\n",
            "4/4 [==============================] - 2s 434ms/step - loss: 0.0600 - acc: 0.9857 - val_loss: 0.5470 - val_acc: 0.8000\n",
            "Epoch 19/50\n",
            "4/4 [==============================] - 2s 435ms/step - loss: 0.0607 - acc: 1.0000 - val_loss: 0.5257 - val_acc: 0.7667\n",
            "Epoch 20/50\n",
            "4/4 [==============================] - 2s 439ms/step - loss: 0.0392 - acc: 0.9857 - val_loss: 0.5525 - val_acc: 0.7667\n",
            "Epoch 21/50\n",
            "4/4 [==============================] - 2s 434ms/step - loss: 0.0279 - acc: 0.9857 - val_loss: 0.5841 - val_acc: 0.7667\n",
            "Epoch 22/50\n",
            "4/4 [==============================] - 2s 438ms/step - loss: 0.0351 - acc: 1.0000 - val_loss: 0.6639 - val_acc: 0.8333\n",
            "Epoch 23/50\n",
            "4/4 [==============================] - 2s 441ms/step - loss: 0.0274 - acc: 0.9857 - val_loss: 0.6036 - val_acc: 0.8000\n",
            "Epoch 24/50\n",
            "4/4 [==============================] - 2s 447ms/step - loss: 0.0110 - acc: 1.0000 - val_loss: 0.5871 - val_acc: 0.8000\n",
            "Epoch 25/50\n",
            "4/4 [==============================] - 2s 443ms/step - loss: 0.0114 - acc: 1.0000 - val_loss: 0.5963 - val_acc: 0.8000\n",
            "Epoch 26/50\n",
            "4/4 [==============================] - 2s 439ms/step - loss: 0.0057 - acc: 1.0000 - val_loss: 0.6540 - val_acc: 0.8000\n",
            "Epoch 27/50\n",
            "4/4 [==============================] - 2s 445ms/step - loss: 0.0057 - acc: 1.0000 - val_loss: 0.6316 - val_acc: 0.8000\n",
            "Epoch 28/50\n",
            "4/4 [==============================] - 2s 437ms/step - loss: 0.0032 - acc: 1.0000 - val_loss: 0.6420 - val_acc: 0.8000\n",
            "Epoch 29/50\n",
            "4/4 [==============================] - 2s 440ms/step - loss: 0.0026 - acc: 1.0000 - val_loss: 0.6800 - val_acc: 0.8000\n",
            "Epoch 30/50\n",
            "4/4 [==============================] - 2s 453ms/step - loss: 0.0022 - acc: 1.0000 - val_loss: 0.7131 - val_acc: 0.8000\n",
            "Epoch 31/50\n",
            "4/4 [==============================] - 2s 439ms/step - loss: 0.0016 - acc: 1.0000 - val_loss: 0.6993 - val_acc: 0.8000\n",
            "Epoch 32/50\n",
            "4/4 [==============================] - 2s 460ms/step - loss: 0.0015 - acc: 1.0000 - val_loss: 0.7180 - val_acc: 0.8000\n",
            "Epoch 33/50\n",
            "4/4 [==============================] - 2s 498ms/step - loss: 0.0012 - acc: 1.0000 - val_loss: 0.7621 - val_acc: 0.8000\n",
            "Epoch 34/50\n",
            "4/4 [==============================] - 2s 476ms/step - loss: 0.0011 - acc: 1.0000 - val_loss: 0.7736 - val_acc: 0.8000\n",
            "Epoch 35/50\n",
            "4/4 [==============================] - 2s 468ms/step - loss: 9.6944e-04 - acc: 1.0000 - val_loss: 0.7702 - val_acc: 0.8000\n",
            "Epoch 36/50\n",
            "4/4 [==============================] - 2s 475ms/step - loss: 8.2550e-04 - acc: 1.0000 - val_loss: 0.7690 - val_acc: 0.8000\n",
            "Epoch 37/50\n",
            "4/4 [==============================] - 2s 472ms/step - loss: 7.7619e-04 - acc: 1.0000 - val_loss: 0.7767 - val_acc: 0.8000\n",
            "Epoch 38/50\n",
            "4/4 [==============================] - 2s 439ms/step - loss: 6.9828e-04 - acc: 1.0000 - val_loss: 0.8059 - val_acc: 0.8000\n",
            "Epoch 39/50\n",
            "4/4 [==============================] - 2s 446ms/step - loss: 6.6234e-04 - acc: 1.0000 - val_loss: 0.8063 - val_acc: 0.8000\n",
            "Epoch 40/50\n",
            "4/4 [==============================] - 2s 444ms/step - loss: 5.8700e-04 - acc: 1.0000 - val_loss: 0.8115 - val_acc: 0.8000\n",
            "Epoch 41/50\n",
            "4/4 [==============================] - 2s 446ms/step - loss: 5.2388e-04 - acc: 1.0000 - val_loss: 0.7971 - val_acc: 0.8000\n",
            "Epoch 42/50\n",
            "4/4 [==============================] - 2s 450ms/step - loss: 5.0049e-04 - acc: 1.0000 - val_loss: 0.8111 - val_acc: 0.8000\n",
            "Epoch 43/50\n",
            "4/4 [==============================] - 2s 441ms/step - loss: 4.3541e-04 - acc: 1.0000 - val_loss: 0.8358 - val_acc: 0.8000\n",
            "Epoch 44/50\n",
            "4/4 [==============================] - 2s 445ms/step - loss: 4.0078e-04 - acc: 1.0000 - val_loss: 0.8589 - val_acc: 0.8000\n",
            "Epoch 45/50\n",
            "4/4 [==============================] - 2s 439ms/step - loss: 3.8520e-04 - acc: 1.0000 - val_loss: 0.8694 - val_acc: 0.8000\n",
            "Epoch 46/50\n",
            "4/4 [==============================] - 2s 444ms/step - loss: 3.6013e-04 - acc: 1.0000 - val_loss: 0.8652 - val_acc: 0.8000\n",
            "Epoch 47/50\n",
            "4/4 [==============================] - 2s 440ms/step - loss: 3.2644e-04 - acc: 1.0000 - val_loss: 0.8698 - val_acc: 0.8000\n",
            "Epoch 48/50\n",
            "4/4 [==============================] - 2s 437ms/step - loss: 2.9779e-04 - acc: 1.0000 - val_loss: 0.8655 - val_acc: 0.8000\n",
            "Epoch 49/50\n",
            "4/4 [==============================] - 2s 451ms/step - loss: 3.0008e-04 - acc: 1.0000 - val_loss: 0.8687 - val_acc: 0.8000\n",
            "Epoch 50/50\n",
            "4/4 [==============================] - 2s 449ms/step - loss: 2.6671e-04 - acc: 1.0000 - val_loss: 0.8887 - val_acc: 0.8000\n"
          ]
        }
      ]
    },
    {
      "cell_type": "markdown",
      "metadata": {
        "id": "HuxjW35RFCZ6"
      },
      "source": [
        "### **Evaluasi Model**"
      ]
    },
    {
      "cell_type": "code",
      "metadata": {
        "colab": {
          "base_uri": "https://localhost:8080/",
          "height": 298
        },
        "id": "1AM3ms3zE_AU",
        "outputId": "771e9eec-1489-47c5-c16d-a72c004ec4fd"
      },
      "source": [
        "%matplotlib inline\n",
        "\n",
        "plt.style.use(\"ggplot\")\n",
        "plt.figure()\n",
        "plt.plot(np.arange(0, 50), H.history[\"loss\"], label=\"train_loss\")\n",
        "plt.plot(np.arange(0, 50), H.history[\"val_loss\"], label=\"val_loss\")\n",
        "plt.title(\"Loss Plot\")\n",
        "plt.xlabel(\"Epoch #\")\n",
        "plt.ylabel(\"Loss\")\n",
        "plt.legend()\n",
        "plt.show()"
      ],
      "execution_count": null,
      "outputs": [
        {
          "output_type": "display_data",
          "data": {
            "image/png": "[encoded data removed]",
            "text/plain": [
              "<Figure size 432x288 with 1 Axes>"
            ]
          },
          "metadata": {}
        }
      ]
    },
    {
      "cell_type": "code",
      "metadata": {
        "colab": {
          "base_uri": "https://localhost:8080/",
          "height": 298
        },
        "id": "q1SJWudcFEDL",
        "outputId": "eac279ed-1ff5-4555-dfb6-59a9390795ce"
      },
      "source": [
        "plt.style.use(\"ggplot\")\n",
        "plt.figure()\n",
        "plt.plot(np.arange(0, 50), H.history[\"acc\"], label=\"train_acc\")\n",
        "plt.plot(np.arange(0, 50), H.history[\"val_acc\"], label=\"val_acc\")\n",
        "plt.title(\"Accuracy Plot\")\n",
        "plt.xlabel(\"Epoch #\")\n",
        "plt.ylabel(\"Acc\")\n",
        "plt.legend()\n",
        "plt.show()"
      ],
      "execution_count": null,
      "outputs": [
        {
          "output_type": "display_data",
          "data": {
            "image/png": "[encoded data removed]",
            "text/plain": [
              "<Figure size 432x288 with 1 Axes>"
            ]
          },
          "metadata": {}
        }
      ]
    },
    {
      "cell_type": "code",
      "metadata": {
        "colab": {
          "base_uri": "https://localhost:8080/"
        },
        "id": "H_8mB3igFG-x",
        "outputId": "35da6b53-c83e-47ab-ccd5-e8c03dd88862"
      },
      "source": [
        "pred = model.predict(x_val)\n",
        "labels = (pred > 0.5).astype(np.int)\n",
        "\n",
        "print(classification_report(y_val, labels))"
      ],
      "execution_count": null,
      "outputs": [
        {
          "output_type": "stream",
          "name": "stdout",
          "text": [
            "              precision    recall  f1-score   support\n",
            "\n",
            "           0       0.85      0.73      0.79        15\n",
            "           1       0.76      0.87      0.81        15\n",
            "\n",
            "    accuracy                           0.80        30\n",
            "   macro avg       0.81      0.80      0.80        30\n",
            "weighted avg       0.81      0.80      0.80        30\n",
            "\n"
          ]
        }
      ]
    },
    {
      "cell_type": "markdown",
      "source": [
        "### **Tes Prediksi**"
      ],
      "metadata": {
        "id": "Z0eShRo9NKWz"
      }
    },
    {
      "cell_type": "code",
      "source": [
        "queryPath = '/tmp/herbal/train/daun_jambu/jambu.1.jpg'\n",
        "query = cv2.imread(queryPath)\n",
        "img_arr = cv2.resize(query, (150,150))\n",
        "img_arr = img_arr / 255.0\n",
        "img_arr = img_arr.reshape(1, 150,150,3)\n",
        "\n",
        "prediction = model.predict(img_arr)\n",
        "\n",
        "\n",
        "if prediction < 0.5 :\n",
        "    target = \"Jambu Biji\"\n",
        "else :\n",
        "    target = \"Jeruk Nipis\"\n",
        "text = \"{}\".format(target)\n",
        "\n",
        "print(prediction)\n",
        "print('Daun '+text)"
      ],
      "metadata": {
        "colab": {
          "base_uri": "https://localhost:8080/"
        },
        "id": "tAibguhxCdFH",
        "outputId": "62da4a13-5e15-416a-ff56-3534269afce8"
      },
      "execution_count": null,
      "outputs": [
        {
          "output_type": "stream",
          "name": "stdout",
          "text": [
            "[[9.54496e-05]]\n",
            "Daun Jambu Biji\n"
          ]
        }
      ]
    },
    {
      "cell_type": "code",
      "source": [
        "queryPath = '/tmp/herbal/train/daun_jeruk_nipis/jeruknipis.1.jpg'\n",
        "query = cv2.imread(queryPath)\n",
        "img_arr = cv2.resize(query, (150,150))\n",
        "img_arr = img_arr / 255.0\n",
        "img_arr = img_arr.reshape(1, 150,150,3)\n",
        "\n",
        "prediction = model.predict(img_arr)\n",
        "\n",
        "\n",
        "if prediction < 0.5 :\n",
        "    target = \"Jambu Biji\"\n",
        "else :\n",
        "    target = \"Jeruk Nipis\"\n",
        "text = \"{}\".format(target)\n",
        "\n",
        "print(prediction)\n",
        "print('Daun '+text)"
      ],
      "metadata": {
        "colab": {
          "base_uri": "https://localhost:8080/"
        },
        "id": "5ORFapHzJWvc",
        "outputId": "bb6a4cb0-3b99-44cc-81e7-ff66d32f1860"
      },
      "execution_count": null,
      "outputs": [
        {
          "output_type": "stream",
          "name": "stdout",
          "text": [
            "[[0.99909925]]\n",
            "Daun Jeruk Nipis\n"
          ]
        }
      ]
    },
    {
      "cell_type": "markdown",
      "source": [
        "### **Save Model Data Ke H5**"
      ],
      "metadata": {
        "id": "DvaiN4MNtgNk"
      }
    },
    {
      "cell_type": "code",
      "source": [
        "\n",
        "model.save('/tmp/model.h5')\n",
        "print('Model Saved!')\n",
        "\n",
        "savedModel=load_model('/tmp/model.h5')\n",
        "savedModel.summary()"
      ],
      "metadata": {
        "colab": {
          "base_uri": "https://localhost:8080/"
        },
        "id": "7vY-df8ip-uG",
        "outputId": "bda0f532-3f15-4307-9122-94e1976d3ea1"
      },
      "execution_count": null,
      "outputs": [
        {
          "output_type": "stream",
          "name": "stdout",
          "text": [
            "Model Saved!\n",
            "Model: \"sequential_13\"\n",
            "_________________________________________________________________\n",
            " Layer (type)                Output Shape              Param #   \n",
            "=================================================================\n",
            " conv2d_36 (Conv2D)          (None, 150, 150, 16)      448       \n",
            "                                                                 \n",
            " max_pooling2d_36 (MaxPoolin  (None, 75, 75, 16)       0         \n",
            " g2D)                                                            \n",
            "                                                                 \n",
            " conv2d_37 (Conv2D)          (None, 75, 75, 32)        4640      \n",
            "                                                                 \n",
            " max_pooling2d_37 (MaxPoolin  (None, 38, 38, 32)       0         \n",
            " g2D)                                                            \n",
            "                                                                 \n",
            " conv2d_38 (Conv2D)          (None, 38, 38, 64)        18496     \n",
            "                                                                 \n",
            " max_pooling2d_38 (MaxPoolin  (None, 19, 19, 64)       0         \n",
            " g2D)                                                            \n",
            "                                                                 \n",
            " flatten_12 (Flatten)        (None, 23104)             0         \n",
            "                                                                 \n",
            " dense_22 (Dense)            (None, 128)               2957440   \n",
            "                                                                 \n",
            " dense_23 (Dense)            (None, 1)                 129       \n",
            "                                                                 \n",
            "=================================================================\n",
            "Total params: 2,981,153\n",
            "Trainable params: 2,981,153\n",
            "Non-trainable params: 0\n",
            "_________________________________________________________________\n"
          ]
        }
      ]
    }
  ]
}
