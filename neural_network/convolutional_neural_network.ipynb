{
  "nbformat": 4,
  "nbformat_minor": 0,
  "metadata": {
    "colab": {
      "name": "convolutional_neural_network.ipynb",
      "provenance": [],
      "include_colab_link": true
    },
    "kernelspec": {
      "name": "python3",
      "display_name": "Python 3"
    },
    "language_info": {
      "name": "python"
    }
  },
  "cells": [
    {
      "cell_type": "markdown",
      "metadata": {
        "id": "view-in-github",
        "colab_type": "text"
      },
      "source": [
        "<a href=\"https://colab.research.google.com/github/RamaHM1/kecerdasanbuatan/blob/main/neural_network/convolutional_neural_network.ipynb\" target=\"_parent\"><img src=\"https://colab.research.google.com/assets/colab-badge.svg\" alt=\"Open In Colab\"/></a>"
      ]
    },
    {
      "cell_type": "code",
      "metadata": {
        "colab": {
          "base_uri": "https://localhost:8080/"
        },
        "id": "TYG8HEb3Dkpa",
        "outputId": "371cf0f8-a60a-4532-a44e-6f53915dc36b"
      },
      "source": [
        "# Download dataset172iSK0cneDKq79zZ-UT5zJz0yakfpiI2\n",
        "!wget --load-cookies /tmp/cookies.txt \"https://docs.google.com/uc?export=download&confirm=$(wget --quiet --save-cookies /tmp/cookies.txt --keep-session-cookies --no-check-certificate 'https://docs.google.com/uc?export=download&id=17I-kdCrpv0wZgisi4LCO2kTOlzR0ctoB' -O- | sed -rn 's/.*confirm=([0-9A-Za-z_]+).*/\\1\\n/p')&id=17I-kdCrpv0wZgisi4LCO2kTOlzR0ctoB\" -O /tmp/herbal.zip && rm -rf /tmp/cookies.txt"
      ],
      "execution_count": null,
      "outputs": [
        {
          "output_type": "stream",
          "name": "stdout",
          "text": [
            "--2021-11-12 11:04:45--  https://docs.google.com/uc?export=download&confirm=WvNK&id=17I-kdCrpv0wZgisi4LCO2kTOlzR0ctoB\n",
            "Resolving docs.google.com (docs.google.com)... 142.250.141.138, 142.250.141.113, 142.250.141.102, ...\n",
            "Connecting to docs.google.com (docs.google.com)|142.250.141.138|:443... connected.\n",
            "HTTP request sent, awaiting response... 302 Moved Temporarily\n",
            "Location: https://doc-10-1c-docs.googleusercontent.com/docs/securesc/1kop7654cbmheii0oaajkq4nc65ml2ol/eegmoea8t9imntachladjac6fn3rfc00/1636715025000/15542249348961723767/05861867152584881026Z/17I-kdCrpv0wZgisi4LCO2kTOlzR0ctoB?e=download [following]\n",
            "--2021-11-12 11:04:45--  https://doc-10-1c-docs.googleusercontent.com/docs/securesc/1kop7654cbmheii0oaajkq4nc65ml2ol/eegmoea8t9imntachladjac6fn3rfc00/1636715025000/15542249348961723767/05861867152584881026Z/17I-kdCrpv0wZgisi4LCO2kTOlzR0ctoB?e=download\n",
            "Resolving doc-10-1c-docs.googleusercontent.com (doc-10-1c-docs.googleusercontent.com)... 142.250.141.132, 2607:f8b0:4023:c0b::84\n",
            "Connecting to doc-10-1c-docs.googleusercontent.com (doc-10-1c-docs.googleusercontent.com)|142.250.141.132|:443... connected.\n",
            "HTTP request sent, awaiting response... 302 Found\n",
            "Location: https://docs.google.com/nonceSigner?nonce=61g7pfnsdveeg&continue=https://doc-10-1c-docs.googleusercontent.com/docs/securesc/1kop7654cbmheii0oaajkq4nc65ml2ol/eegmoea8t9imntachladjac6fn3rfc00/1636715025000/15542249348961723767/05861867152584881026Z/17I-kdCrpv0wZgisi4LCO2kTOlzR0ctoB?e%3Ddownload&hash=ne4kq4qh0la2a1fk3r2gnfg29feqlt1o [following]\n",
            "--2021-11-12 11:04:46--  https://docs.google.com/nonceSigner?nonce=61g7pfnsdveeg&continue=https://doc-10-1c-docs.googleusercontent.com/docs/securesc/1kop7654cbmheii0oaajkq4nc65ml2ol/eegmoea8t9imntachladjac6fn3rfc00/1636715025000/15542249348961723767/05861867152584881026Z/17I-kdCrpv0wZgisi4LCO2kTOlzR0ctoB?e%3Ddownload&hash=ne4kq4qh0la2a1fk3r2gnfg29feqlt1o\n",
            "Connecting to docs.google.com (docs.google.com)|142.250.141.138|:443... connected.\n",
            "HTTP request sent, awaiting response... 302 Found\n",
            "Location: https://doc-10-1c-docs.googleusercontent.com/docs/securesc/1kop7654cbmheii0oaajkq4nc65ml2ol/eegmoea8t9imntachladjac6fn3rfc00/1636715025000/15542249348961723767/05861867152584881026Z/17I-kdCrpv0wZgisi4LCO2kTOlzR0ctoB?e=download&nonce=61g7pfnsdveeg&user=05861867152584881026Z&hash=ud1140edir7j8p7ftuner5h6uac2sin1 [following]\n",
            "--2021-11-12 11:04:46--  https://doc-10-1c-docs.googleusercontent.com/docs/securesc/1kop7654cbmheii0oaajkq4nc65ml2ol/eegmoea8t9imntachladjac6fn3rfc00/1636715025000/15542249348961723767/05861867152584881026Z/17I-kdCrpv0wZgisi4LCO2kTOlzR0ctoB?e=download&nonce=61g7pfnsdveeg&user=05861867152584881026Z&hash=ud1140edir7j8p7ftuner5h6uac2sin1\n",
            "Connecting to doc-10-1c-docs.googleusercontent.com (doc-10-1c-docs.googleusercontent.com)|142.250.141.132|:443... connected.\n",
            "HTTP request sent, awaiting response... 200 OK\n",
            "Length: 449741837 (429M) [application/x-zip-compressed]\n",
            "Saving to: ‘/tmp/herbal.zip’\n",
            "\n",
            "/tmp/herbal.zip     100%[===================>] 428.91M   140MB/s    in 3.2s    \n",
            "\n",
            "2021-11-12 11:04:49 (134 MB/s) - ‘/tmp/herbal.zip’ saved [449741837/449741837]\n",
            "\n"
          ]
        }
      ]
    },
    {
      "cell_type": "code",
      "metadata": {
        "id": "4rtnNrFsEDIf"
      },
      "source": [
        "# Ekstrak dataset\n",
        "\n",
        "import os\n",
        "import zipfile\n",
        "\n",
        "local_zip = '/tmp/herbal.zip'\n",
        "zip_ref = zipfile.ZipFile(local_zip, 'r')\n",
        "zip_ref.extractall('/tmp')\n",
        "zip_ref.close()"
      ],
      "execution_count": null,
      "outputs": []
    },
    {
      "cell_type": "code",
      "metadata": {
        "id": "y9L_1kqnEEjc"
      },
      "source": [
        "# Definisikan path untuk data train dan data validation\n",
        "\n",
        "base_dir = '/tmp/herbal'\n",
        "\n",
        "train_dir = os.path.join(base_dir, 'train')\n",
        "validation_dir = os.path.join(base_dir, 'validation')"
      ],
      "execution_count": null,
      "outputs": []
    },
    {
      "cell_type": "code",
      "metadata": {
        "id": "9gc0BCSREF0M"
      },
      "source": [
        "import cv2\n",
        "import numpy as np\n",
        "\n",
        "# Gather data train\n",
        "train_data = []\n",
        "train_label = []\n",
        "for r, d, f in os.walk(train_dir):\n",
        "    for file in f:\n",
        "        if \".jpg\" in file:\n",
        "            imagePath = os.path.join(r, file)\n",
        "            image = cv2.imread(imagePath)\n",
        "            image = cv2.resize(image, (150,150))\n",
        "            train_data.append(image)\n",
        "            label = imagePath.split(os.path.sep)[-2]\n",
        "            train_label.append(label)\n",
        "\n",
        "train_data = np.array(train_data)\n",
        "train_label = np.array(train_label)"
      ],
      "execution_count": null,
      "outputs": []
    },
    {
      "cell_type": "code",
      "metadata": {
        "id": "FuoKFhhVEG_O"
      },
      "source": [
        "# Gather data validation\n",
        "val_data = []\n",
        "val_label = []\n",
        "for r, d, f in os.walk(validation_dir):\n",
        "    for file in f:\n",
        "        if \".jpg\" in file:\n",
        "            imagePath = os.path.join(r, file)\n",
        "            image = cv2.imread(imagePath)\n",
        "            image = cv2.resize(image, (150,150))\n",
        "            val_data.append(image)\n",
        "            label = imagePath.split(os.path.sep)[-2]\n",
        "            val_label.append(label)\n",
        "\n",
        "val_data = np.array(val_data)\n",
        "val_label = np.array(val_label)"
      ],
      "execution_count": null,
      "outputs": []
    },
    {
      "cell_type": "markdown",
      "metadata": {
        "id": "kiXbwrN3ELqv"
      },
      "source": [
        "<h3>Data Preprocessing</h3>"
      ]
    },
    {
      "cell_type": "code",
      "metadata": {
        "colab": {
          "base_uri": "https://localhost:8080/"
        },
        "id": "m5VhnvtrEI1I",
        "outputId": "6bd104f2-407f-458f-d4ef-69ff02ae8c3e"
      },
      "source": [
        "# Tampilkan shape dari data train dan data validation\n",
        "print(\"Train Data = \", train_data.shape)\n",
        "print(\"Train Label = \", train_label.shape)\n",
        "print(\"Validation Data = \", val_data.shape)\n",
        "print(\"Validation Label = \", val_label.shape)"
      ],
      "execution_count": null,
      "outputs": [
        {
          "output_type": "stream",
          "name": "stdout",
          "text": [
            "Train Data =  (70, 150, 150, 3)\n",
            "Train Label =  (70,)\n",
            "Validation Data =  (30, 150, 150, 3)\n",
            "Validation Label =  (30,)\n"
          ]
        }
      ]
    },
    {
      "cell_type": "code",
      "metadata": {
        "colab": {
          "base_uri": "https://localhost:8080/"
        },
        "id": "q1LVp6dCENne",
        "outputId": "029d1d54-416b-4897-af9b-b1969994d5b7"
      },
      "source": [
        "# Normalisasi dataset\n",
        "print(\"Data sebelum di-normalisasi \", train_data[0][0][0])\n",
        "\n",
        "x_train = train_data.astype('float32') / 255.0\n",
        "x_val = val_data.astype('float32') / 255.0\n",
        "print(\"Data setelah di-normalisasi \", x_train[0][0][0])"
      ],
      "execution_count": null,
      "outputs": [
        {
          "output_type": "stream",
          "name": "stdout",
          "text": [
            "Data sebelum di-normalisasi  [165 181 194]\n",
            "Data setelah di-normalisasi  [0.64705884 0.70980394 0.7607843 ]\n"
          ]
        }
      ]
    },
    {
      "cell_type": "code",
      "metadata": {
        "colab": {
          "base_uri": "https://localhost:8080/"
        },
        "id": "tc7FivC6EPhm",
        "outputId": "539ab67c-c0a3-40e8-d73b-73e7f6cfdb1e"
      },
      "source": [
        "# Transformasi label encoder\n",
        "from sklearn.preprocessing import LabelEncoder\n",
        "\n",
        "print(\"Label sebelum di-encoder \", train_label[30:40])\n",
        "\n",
        "lb = LabelEncoder()\n",
        "y_train = lb.fit_transform(train_label)\n",
        "y_val = lb.fit_transform(val_label)\n",
        "\n",
        "print(\"Label setelah di-encoder \", y_train[30:40])"
      ],
      "execution_count": null,
      "outputs": [
        {
          "output_type": "stream",
          "name": "stdout",
          "text": [
            "Label sebelum di-encoder  ['daun_jambu' 'daun_jambu' 'daun_jambu' 'daun_jambu' 'daun_jambu'\n",
            " 'daun_jeruk_nipis' 'daun_jeruk_nipis' 'daun_jeruk_nipis'\n",
            " 'daun_jeruk_nipis' 'daun_jeruk_nipis']\n",
            "Label setelah di-encoder  [0 0 0 0 0 1 1 1 1 1]\n"
          ]
        }
      ]
    },
    {
      "cell_type": "markdown",
      "metadata": {
        "id": "4jVWbOhOEzQJ"
      },
      "source": [
        "<h3>Definisikan Model</h3>"
      ]
    },
    {
      "cell_type": "code",
      "metadata": {
        "id": "usLiFiwAEvVb"
      },
      "source": [
        "from tensorflow.keras.models import Sequential\n",
        "from tensorflow.keras.layers import InputLayer, Dense, Conv2D, MaxPool2D, Flatten"
      ],
      "execution_count": null,
      "outputs": []
    },
    {
      "cell_type": "code",
      "metadata": {
        "id": "rDwzxacpE1ei"
      },
      "source": [
        "# Feature Extraction Layer\n",
        "model = Sequential()\n",
        "\n",
        "model.add(InputLayer(input_shape=[150,150,3]))\n",
        "model.add(Conv2D(filters=16, kernel_size=3, strides=1, padding='same', activation='relu'))\n",
        "model.add(MaxPool2D(pool_size=2, padding='same'))\n",
        "model.add(Conv2D(filters=32, kernel_size=3, strides=1, padding='same', activation='relu'))\n",
        "model.add(MaxPool2D(pool_size=2, padding='same'))\n",
        "model.add(Conv2D(filters=64, kernel_size=3, strides=1, padding='same', activation='relu'))\n",
        "model.add(MaxPool2D(pool_size=2, padding='same'))\n",
        "model.add(Flatten())"
      ],
      "execution_count": null,
      "outputs": []
    },
    {
      "cell_type": "code",
      "metadata": {
        "id": "Sud1AUF0E2k8"
      },
      "source": [
        "# Fully Connected Layer\n",
        "model.add(Dense(128, activation='relu'))\n",
        "model.add(Dense(1, activation='sigmoid'))"
      ],
      "execution_count": null,
      "outputs": []
    },
    {
      "cell_type": "code",
      "metadata": {
        "colab": {
          "base_uri": "https://localhost:8080/"
        },
        "id": "XW-KE9ePE466",
        "outputId": "b47b671b-1d13-4ac1-d91d-d2c1f2de9bf5"
      },
      "source": [
        "# Print model summary\n",
        "print(model.summary())"
      ],
      "execution_count": null,
      "outputs": [
        {
          "output_type": "stream",
          "name": "stdout",
          "text": [
            "Model: \"sequential_3\"\n",
            "_________________________________________________________________\n",
            " Layer (type)                Output Shape              Param #   \n",
            "=================================================================\n",
            " conv2d_9 (Conv2D)           (None, 150, 150, 16)      448       \n",
            "                                                                 \n",
            " max_pooling2d_9 (MaxPooling  (None, 75, 75, 16)       0         \n",
            " 2D)                                                             \n",
            "                                                                 \n",
            " conv2d_10 (Conv2D)          (None, 75, 75, 32)        4640      \n",
            "                                                                 \n",
            " max_pooling2d_10 (MaxPoolin  (None, 38, 38, 32)       0         \n",
            " g2D)                                                            \n",
            "                                                                 \n",
            " conv2d_11 (Conv2D)          (None, 38, 38, 64)        18496     \n",
            "                                                                 \n",
            " max_pooling2d_11 (MaxPoolin  (None, 19, 19, 64)       0         \n",
            " g2D)                                                            \n",
            "                                                                 \n",
            " flatten_3 (Flatten)         (None, 23104)             0         \n",
            "                                                                 \n",
            " dense_6 (Dense)             (None, 128)               2957440   \n",
            "                                                                 \n",
            " dense_7 (Dense)             (None, 1)                 129       \n",
            "                                                                 \n",
            "=================================================================\n",
            "Total params: 2,981,153\n",
            "Trainable params: 2,981,153\n",
            "Non-trainable params: 0\n",
            "_________________________________________________________________\n",
            "None\n"
          ]
        }
      ]
    },
    {
      "cell_type": "code",
      "metadata": {
        "colab": {
          "base_uri": "https://localhost:8080/"
        },
        "id": "Tais64D7E5Zo",
        "outputId": "5182e550-b36a-4bd7-f124-d87778f57d5e"
      },
      "source": [
        "# Compile model\n",
        "from tensorflow.keras.optimizers import Adam\n",
        "\n",
        "model.compile(optimizer=Adam(lr=0.001), \n",
        "              loss='binary_crossentropy', \n",
        "              metrics=['acc'])"
      ],
      "execution_count": null,
      "outputs": [
        {
          "output_type": "stream",
          "name": "stderr",
          "text": [
            "/usr/local/lib/python3.7/dist-packages/keras/optimizer_v2/adam.py:105: UserWarning: The `lr` argument is deprecated, use `learning_rate` instead.\n",
            "  super(Adam, self).__init__(name, **kwargs)\n"
          ]
        }
      ]
    },
    {
      "cell_type": "markdown",
      "metadata": {
        "id": "NTNBH19iE8kt"
      },
      "source": [
        "<h3>Training Model</h3>"
      ]
    },
    {
      "cell_type": "code",
      "metadata": {
        "colab": {
          "base_uri": "https://localhost:8080/"
        },
        "id": "p4Vr8dyvE6pM",
        "outputId": "5295c564-6181-4831-d941-709d40595b0c"
      },
      "source": [
        "H = model.fit(x_train, y_train, batch_size=20, epochs=15, validation_data=(x_val, y_val))"
      ],
      "execution_count": null,
      "outputs": [
        {
          "output_type": "stream",
          "name": "stdout",
          "text": [
            "Epoch 1/15\n",
            "4/4 [==============================] - 2s 439ms/step - loss: 0.8843 - acc: 0.4571 - val_loss: 0.7193 - val_acc: 0.5000\n",
            "Epoch 2/15\n",
            "4/4 [==============================] - 2s 381ms/step - loss: 0.6578 - acc: 0.5286 - val_loss: 0.6013 - val_acc: 0.8333\n",
            "Epoch 3/15\n",
            "4/4 [==============================] - 2s 389ms/step - loss: 0.5483 - acc: 0.8857 - val_loss: 0.5107 - val_acc: 0.7333\n",
            "Epoch 4/15\n",
            "4/4 [==============================] - 2s 381ms/step - loss: 0.3928 - acc: 0.9143 - val_loss: 0.4383 - val_acc: 0.8333\n",
            "Epoch 5/15\n",
            "4/4 [==============================] - 2s 390ms/step - loss: 0.2880 - acc: 0.9143 - val_loss: 0.3705 - val_acc: 0.8333\n",
            "Epoch 6/15\n",
            "4/4 [==============================] - 2s 388ms/step - loss: 0.2000 - acc: 0.9429 - val_loss: 0.4408 - val_acc: 0.8000\n",
            "Epoch 7/15\n",
            "4/4 [==============================] - 2s 387ms/step - loss: 0.1414 - acc: 0.9571 - val_loss: 0.5638 - val_acc: 0.8667\n",
            "Epoch 8/15\n",
            "4/4 [==============================] - 2s 385ms/step - loss: 0.2038 - acc: 0.9143 - val_loss: 0.4593 - val_acc: 0.8333\n",
            "Epoch 9/15\n",
            "4/4 [==============================] - 2s 381ms/step - loss: 0.3403 - acc: 0.9000 - val_loss: 0.4711 - val_acc: 0.8000\n",
            "Epoch 10/15\n",
            "4/4 [==============================] - 2s 380ms/step - loss: 0.1399 - acc: 0.9286 - val_loss: 0.5893 - val_acc: 0.6667\n",
            "Epoch 11/15\n",
            "4/4 [==============================] - 2s 384ms/step - loss: 0.0951 - acc: 0.9714 - val_loss: 0.4658 - val_acc: 0.8333\n",
            "Epoch 12/15\n",
            "4/4 [==============================] - 2s 383ms/step - loss: 0.1024 - acc: 0.9571 - val_loss: 0.5712 - val_acc: 0.8000\n",
            "Epoch 13/15\n",
            "4/4 [==============================] - 2s 383ms/step - loss: 0.0711 - acc: 0.9714 - val_loss: 0.5157 - val_acc: 0.8000\n",
            "Epoch 14/15\n",
            "4/4 [==============================] - 2s 388ms/step - loss: 0.0556 - acc: 0.9857 - val_loss: 0.5440 - val_acc: 0.8000\n",
            "Epoch 15/15\n",
            "4/4 [==============================] - 2s 390ms/step - loss: 0.0484 - acc: 0.9857 - val_loss: 0.5784 - val_acc: 0.8000\n"
          ]
        }
      ]
    },
    {
      "cell_type": "markdown",
      "metadata": {
        "id": "HuxjW35RFCZ6"
      },
      "source": [
        "<h3>Evaluasi Model</h3>"
      ]
    },
    {
      "cell_type": "code",
      "metadata": {
        "colab": {
          "base_uri": "https://localhost:8080/",
          "height": 298
        },
        "id": "1AM3ms3zE_AU",
        "outputId": "4ef649ee-49a4-43b2-9a01-5271d80f668d"
      },
      "source": [
        "%matplotlib inline\n",
        "\n",
        "import matplotlib.pyplot as plt\n",
        "\n",
        "plt.style.use(\"ggplot\")\n",
        "plt.figure()\n",
        "plt.plot(np.arange(0, 15), H.history[\"loss\"], label=\"train_loss\")\n",
        "plt.plot(np.arange(0, 15), H.history[\"val_loss\"], label=\"val_loss\")\n",
        "plt.title(\"Loss Plot\")\n",
        "plt.xlabel(\"Epoch #\")\n",
        "plt.ylabel(\"Loss\")\n",
        "plt.legend()\n",
        "plt.show()"
      ],
      "execution_count": null,
      "outputs": [
        {
          "output_type": "display_data",
          "data": {
            "image/png": "[encoded data removed]",
            "text/plain": [
              "<Figure size 432x288 with 1 Axes>"
            ]
          },
          "metadata": {}
        }
      ]
    },
    {
      "cell_type": "code",
      "metadata": {
        "colab": {
          "base_uri": "https://localhost:8080/",
          "height": 298
        },
        "id": "q1SJWudcFEDL",
        "outputId": "1de9827b-9737-488a-80f7-c147a844e221"
      },
      "source": [
        "plt.style.use(\"ggplot\")\n",
        "plt.figure()\n",
        "plt.plot(np.arange(0, 15), H.history[\"acc\"], label=\"train_acc\")\n",
        "plt.plot(np.arange(0, 15), H.history[\"val_acc\"], label=\"val_acc\")\n",
        "plt.title(\"Accuracy Plot\")\n",
        "plt.xlabel(\"Epoch #\")\n",
        "plt.ylabel(\"Acc\")\n",
        "plt.legend()\n",
        "plt.show()"
      ],
      "execution_count": null,
      "outputs": [
        {
          "output_type": "display_data",
          "data": {
            "image/png": "[encoded data removed]",
            "text/plain": [
              "<Figure size 432x288 with 1 Axes>"
            ]
          },
          "metadata": {}
        }
      ]
    },
    {
      "cell_type": "code",
      "metadata": {
        "colab": {
          "base_uri": "https://localhost:8080/"
        },
        "id": "H_8mB3igFG-x",
        "outputId": "33e34539-831a-448f-d6e8-f7357091cc72"
      },
      "source": [
        "from sklearn.metrics import classification_report\n",
        "\n",
        "pred = model.predict(x_val)\n",
        "labels = (pred > 0.5).astype(np.int)\n",
        "\n",
        "print(classification_report(y_val, labels))"
      ],
      "execution_count": null,
      "outputs": [
        {
          "output_type": "stream",
          "name": "stdout",
          "text": [
            "              precision    recall  f1-score   support\n",
            "\n",
            "           0       0.80      0.80      0.80        15\n",
            "           1       0.80      0.80      0.80        15\n",
            "\n",
            "    accuracy                           0.80        30\n",
            "   macro avg       0.80      0.80      0.80        30\n",
            "weighted avg       0.80      0.80      0.80        30\n",
            "\n"
          ]
        }
      ]
    }
  ]
}